{
 "cells": [
  {
   "cell_type": "code",
   "execution_count": 1,
   "id": "8d13e891-a667-45be-bf7d-2b723d9ad635",
   "metadata": {},
   "outputs": [],
   "source": [
    "import numpy as np\n",
    "import scipy.stats as stats"
   ]
  },
  {
   "cell_type": "code",
   "execution_count": 3,
   "id": "a7a89acf-053b-44cc-9ebd-25fa9b2b1c9d",
   "metadata": {},
   "outputs": [],
   "source": [
    "data=[1.13, 1.55, 1.43, 0.92, 1.25, 1.36, 1.32, 0.85, 1.07, 1.48, 1.20, 1.33, 1.18, 1.22, 1.29]\n",
    "n=len(data)"
   ]
  },
  {
   "cell_type": "code",
   "execution_count": 29,
   "id": "0dd295c4-bb9b-412b-adf6-db3a09c31f7a",
   "metadata": {},
   "outputs": [
    {
     "data": {
      "text/plain": [
       "([1.13,\n",
       "  1.55,\n",
       "  1.43,\n",
       "  0.92,\n",
       "  1.25,\n",
       "  1.36,\n",
       "  1.32,\n",
       "  0.85,\n",
       "  1.07,\n",
       "  1.48,\n",
       "  1.2,\n",
       "  1.33,\n",
       "  1.18,\n",
       "  1.22,\n",
       "  1.29],\n",
       " 15)"
      ]
     },
     "execution_count": 29,
     "metadata": {},
     "output_type": "execute_result"
    }
   ],
   "source": [
    "data,n"
   ]
  },
  {
   "cell_type": "code",
   "execution_count": 95,
   "id": "d8a7cd6d-c324-466d-a51a-a9c1bf6b97b3",
   "metadata": {},
   "outputs": [
    {
     "data": {
      "text/plain": [
       "1.2386666666666666"
      ]
     },
     "execution_count": 95,
     "metadata": {},
     "output_type": "execute_result"
    }
   ],
   "source": [
    "mean=np.mean(data)\n",
    "mean"
   ]
  },
  {
   "cell_type": "code",
   "execution_count": 97,
   "id": "a0e391b1-3af2-4fd2-bf71-313fe3944c8c",
   "metadata": {},
   "outputs": [
    {
     "data": {
      "text/plain": [
       "0.19316412956959936"
      ]
     },
     "execution_count": 97,
     "metadata": {},
     "output_type": "execute_result"
    }
   ],
   "source": [
    "std_dev=np.std(data, ddof=1) \n",
    "std_dev"
   ]
  },
  {
   "cell_type": "code",
   "execution_count": 27,
   "id": "40f727cc-01d9-4184-aef2-6ef3be76ab75",
   "metadata": {},
   "outputs": [
    {
     "data": {
      "text/plain": [
       "15"
      ]
     },
     "execution_count": 27,
     "metadata": {},
     "output_type": "execute_result"
    }
   ],
   "source": [
    "n=len(data)\n",
    "n"
   ]
  },
  {
   "cell_type": "code",
   "execution_count": null,
   "id": "3bf287b4-8e42-464a-a4be-c738e335686c",
   "metadata": {},
   "outputs": [],
   "source": [
    "#sample standard deviation"
   ]
  },
  {
   "cell_type": "code",
   "execution_count": 37,
   "id": "cc8e3ab8-fe6b-47dc-9243-d5fdca16c59e",
   "metadata": {},
   "outputs": [
    {
     "data": {
      "text/plain": [
       "2.976842734370834"
      ]
     },
     "execution_count": 37,
     "metadata": {},
     "output_type": "execute_result"
    }
   ],
   "source": [
    "confidence=0.99\n",
    "t_score= stats.t.ppf((1+confidence)/2,df=n-1)\n",
    "t_score"
   ]
  },
  {
   "cell_type": "code",
   "execution_count": 41,
   "id": "6802015e-cc96-484f-9e83-e542e4cac31e",
   "metadata": {},
   "outputs": [
    {
     "data": {
      "text/plain": [
       "0.14846932822817596"
      ]
     },
     "execution_count": 41,
     "metadata": {},
     "output_type": "execute_result"
    }
   ],
   "source": [
    "margin_of_error=t_score*(std_dev/np.sqrt(n))\n",
    "margin_of_error"
   ]
  },
  {
   "cell_type": "code",
   "execution_count": 79,
   "id": "f45d6b1a-1a74-4540-8b76-a65bba0c1222",
   "metadata": {},
   "outputs": [
    {
     "data": {
      "text/plain": [
       "(1.0901973384384906, 1.3871359948948425)"
      ]
     },
     "execution_count": 79,
     "metadata": {},
     "output_type": "execute_result"
    }
   ],
   "source": [
    "lower_bound= mean- margin_of_error\n",
    "upper_bound= mean+margin_of_error\n",
    "lower_bound,upper_bound"
   ]
  },
  {
   "cell_type": "code",
   "execution_count": 85,
   "id": "3f7be4ce-372f-47ee-a588-58e460ff24c0",
   "metadata": {},
   "outputs": [
    {
     "name": "stdout",
     "output_type": "stream",
     "text": [
      "Mean: 1.239\n",
      "Sample Standard Deviation: 0.193\n",
      "T-score: 2.977\n",
      "Margin of Error: 0.148\n",
      "Lower bound & Upper bound: (1.090, 1.387)\n"
     ]
    }
   ],
   "source": [
    "print(f\"Mean: {mean:.3f}\")\n",
    "print(f\"Sample Standard Deviation: {std_dev:.3f}\")\n",
    "print(f\"T-score: {t_score:.3f}\")\n",
    "print(f\"Margin of Error: {margin_of_error:.3f}\")\n",
    "print(f\"Lower bound & Upper bound: ({lower_bound:.3f}, {upper_bound:.3f})\")"
   ]
  },
  {
   "cell_type": "code",
   "execution_count": null,
   "id": "2f69e893-1f9e-41ce-a601-ee839b3c8928",
   "metadata": {},
   "outputs": [],
   "source": [
    "#population standard deviation"
   ]
  },
  {
   "cell_type": "code",
   "execution_count": 77,
   "id": "2ffbdef9-b1f5-47c8-b3e2-cc3ebbd11134",
   "metadata": {},
   "outputs": [
    {
     "data": {
      "text/plain": [
       "2.5758293035489004"
      ]
     },
     "execution_count": 77,
     "metadata": {},
     "output_type": "execute_result"
    }
   ],
   "source": [
    "population_std_dev=0.2\n",
    "z_score=stats.norm.ppf((1+confidence)/2)\n",
    "z_score"
   ]
  },
  {
   "cell_type": "code",
   "execution_count": 81,
   "id": "d195d95c-1aab-46bb-99fb-894bae032440",
   "metadata": {},
   "outputs": [
    {
     "data": {
      "text/plain": [
       "0.13301525327090588"
      ]
     },
     "execution_count": 81,
     "metadata": {},
     "output_type": "execute_result"
    }
   ],
   "source": [
    "margin_of_error_population=z_score*(population_std_dev/np.sqrt(n))\n",
    "margin_of_error_population"
   ]
  },
  {
   "cell_type": "code",
   "execution_count": 87,
   "id": "07ea3c6d-c34d-4206-be53-07b0d0748ba0",
   "metadata": {},
   "outputs": [
    {
     "data": {
      "text/plain": [
       "(1.1056514133957607, 1.3716819199375725)"
      ]
     },
     "execution_count": 87,
     "metadata": {},
     "output_type": "execute_result"
    }
   ],
   "source": [
    "lower_bound_population= mean- margin_of_error_population\n",
    "upper_bound_population= mean+margin_of_error_population\n",
    "lower_bound_population,upper_bound_population"
   ]
  },
  {
   "cell_type": "code",
   "execution_count": 93,
   "id": "133f909e-8a60-4cfc-94bc-2bff9a565c09",
   "metadata": {},
   "outputs": [
    {
     "name": "stdout",
     "output_type": "stream",
     "text": [
      "Mean: 1.239\n",
      "Population Standard Deviation: 0.200\n",
      "Z-score: 2.576\n",
      "Margin of Error: 0.133\n",
      "Lower bound population & upper bound population: (1.106, 1.372)\n"
     ]
    }
   ],
   "source": [
    "print(f\"Mean: {mean:.3f}\")\n",
    "print(f\"Population Standard Deviation: {population_std_dev:.3f}\")\n",
    "print(f\"Z-score: {z_score:.3f}\")\n",
    "print(f\"Margin of Error: {margin_of_error_population:.3f}\")\n",
    "print(f\"Lower bound population & upper bound population: ({lower_bound_population:.3f}, {upper_bound_population:.3f})\")\n"
   ]
  }
 ],
 "metadata": {
  "kernelspec": {
   "display_name": "Python 3 (ipykernel)",
   "language": "python",
   "name": "python3"
  },
  "language_info": {
   "codemirror_mode": {
    "name": "ipython",
    "version": 3
   },
   "file_extension": ".py",
   "mimetype": "text/x-python",
   "name": "python",
   "nbconvert_exporter": "python",
   "pygments_lexer": "ipython3",
   "version": "3.12.4"
  }
 },
 "nbformat": 4,
 "nbformat_minor": 5
}
